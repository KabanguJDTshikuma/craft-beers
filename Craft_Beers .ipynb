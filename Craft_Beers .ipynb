{
 "cells": [
  {
   "cell_type": "code",
   "execution_count": 1,
   "metadata": {
    "collapsed": false
   },
   "outputs": [],
   "source": [
    "import pandas as pd\n",
    "beers = pd.read_csv('beers.csv') \n",
    "breweries = pd.read_csv('breweries.csv')"
   ]
  },
  {
   "cell_type": "code",
   "execution_count": 3,
   "metadata": {
    "collapsed": true
   },
   "outputs": [],
   "source": [
    "beers_and_breweries = pd.merge(beers, \n",
    "                               breweries, \n",
    "                               how='inner', \n",
    "                               left_on=\"brewery_id\", \n",
    "                               right_on=\"id\", \n",
    "                               sort=True,\n",
    "                               suffixes=('_beer', '_brewery'))"
   ]
  },
  {
   "cell_type": "code",
   "execution_count": 4,
   "metadata": {
    "collapsed": false
   },
   "outputs": [
    {
     "data": {
      "text/plain": [
       "Unnamed: 0      int64\n",
       "abv           float64\n",
       "ibu           float64\n",
       "id              int64\n",
       "name           object\n",
       "style          object\n",
       "brewery_id      int64\n",
       "ounces        float64\n",
       "dtype: object"
      ]
     },
     "execution_count": 4,
     "metadata": {},
     "output_type": "execute_result"
    }
   ],
   "source": [
    "beers.dtypes"
   ]
  },
  {
   "cell_type": "code",
   "execution_count": 5,
   "metadata": {
    "collapsed": true
   },
   "outputs": [],
   "source": [
    "def get_var_category(series):\n",
    "    unique_count = series.nunique(dropna=False)\n",
    "    total_count = len(series)\n",
    "    if pd.api.types.is_numeric_dtype(series):\n",
    "        return 'Numerical'\n",
    "    elif pd.api.types.is_datetime64_dtype(series):\n",
    "        return 'Date'\n",
    "    elif unique_count==total_count:\n",
    "        return 'Text (Unique)'\n",
    "    else:\n",
    "        return 'Categorical'\n",
    "\n",
    "def print_categories(df):\n",
    "    for column_name in df.columns:\n",
    "        print(column_name, \": \", get_var_category(df[column_name]))"
   ]
  },
  {
   "cell_type": "code",
   "execution_count": 6,
   "metadata": {
    "collapsed": false
   },
   "outputs": [
    {
     "name": "stdout",
     "output_type": "stream",
     "text": [
      "('Unnamed: 0', ': ', 'Numerical')\n",
      "('abv', ': ', 'Numerical')\n",
      "('ibu', ': ', 'Numerical')\n",
      "('id', ': ', 'Numerical')\n",
      "('name', ': ', 'Categorical')\n",
      "('style', ': ', 'Categorical')\n",
      "('brewery_id', ': ', 'Numerical')\n",
      "('ounces', ': ', 'Numerical')\n"
     ]
    }
   ],
   "source": [
    "# Beers Variables\n",
    "print_categories(beers)"
   ]
  },
  {
   "cell_type": "code",
   "execution_count": 7,
   "metadata": {
    "collapsed": false
   },
   "outputs": [
    {
     "name": "stdout",
     "output_type": "stream",
     "text": [
      "('Unnamed: 0', ': ', 'Numerical')\n",
      "('name', ': ', 'Categorical')\n",
      "('city', ': ', 'Categorical')\n",
      "('state', ': ', 'Categorical')\n",
      "('id', ': ', 'Numerical')\n"
     ]
    }
   ],
   "source": [
    "# Breweries Variables\n",
    "print_categories(breweries)"
   ]
  },
  {
   "cell_type": "code",
   "execution_count": 8,
   "metadata": {
    "collapsed": true
   },
   "outputs": [],
   "source": [
    "# Descriptive Statistics"
   ]
  },
  {
   "cell_type": "code",
   "execution_count": 9,
   "metadata": {
    "collapsed": false
   },
   "outputs": [
    {
     "name": "stdout",
     "output_type": "stream",
     "text": [
      "2410\n"
     ]
    }
   ],
   "source": [
    "length = len(beers[\"ibu\"])\n",
    "print(length)"
   ]
  },
  {
   "cell_type": "code",
   "execution_count": 10,
   "metadata": {
    "collapsed": false
   },
   "outputs": [
    {
     "name": "stdout",
     "output_type": "stream",
     "text": [
      "1405\n"
     ]
    }
   ],
   "source": [
    "count = beers[\"ibu\"].count()\n",
    "print(count)"
   ]
  },
  {
   "cell_type": "code",
   "execution_count": 19,
   "metadata": {
    "collapsed": false
   },
   "outputs": [
    {
     "name": "stdout",
     "output_type": "stream",
     "text": [
      "41.7%\n"
     ]
    }
   ],
   "source": [
    "# Missing Values\n",
    "number_of_missing_values = length - count\n",
    "pct_of_missing_values = float(number_of_missing_values)/length\n",
    "pct_of_missing_values = \"{0:.1f}%\".format(pct_of_missing_values*100)\n",
    "print(pct_of_missing_values)"
   ]
  },
  {
   "cell_type": "code",
   "execution_count": 20,
   "metadata": {
    "collapsed": false
   },
   "outputs": [
    {
     "name": "stdout",
     "output_type": "stream",
     "text": [
      "('Minimum value: ', 4.0)\n",
      "('Maximum value: ', 138.0)\n"
     ]
    }
   ],
   "source": [
    "# Minimum/Maximum Value\n",
    "print(\"Minimum value: \", beers[\"ibu\"].min())\n",
    "print(\"Maximum value: \", beers[\"ibu\"].max())"
   ]
  },
  {
   "cell_type": "code",
   "execution_count": 21,
   "metadata": {
    "collapsed": false
   },
   "outputs": [
    {
     "name": "stdout",
     "output_type": "stream",
     "text": [
      "0    20.0\n",
      "dtype: float64\n"
     ]
    }
   ],
   "source": [
    "# Mode\n",
    "print(beers[\"ibu\"].mode())"
   ]
  },
  {
   "cell_type": "code",
   "execution_count": 24,
   "metadata": {
    "collapsed": false
   },
   "outputs": [],
   "source": [
    "# Mean\n",
    "mean = beers[\"ibu\"].mean"
   ]
  },
  {
   "cell_type": "code",
   "execution_count": 25,
   "metadata": {
    "collapsed": true
   },
   "outputs": [],
   "source": [
    "# Median\n",
    "median = beers[\"ibu\"].median()"
   ]
  },
  {
   "cell_type": "code",
   "execution_count": 26,
   "metadata": {
    "collapsed": false
   },
   "outputs": [
    {
     "data": {
      "text/plain": [
       "25.954065911259317"
      ]
     },
     "execution_count": 26,
     "metadata": {},
     "output_type": "execute_result"
    }
   ],
   "source": [
    "# Standard Deviation\n",
    "standarddev = beers[\"ibu\"].std()\n",
    "standarddev"
   ]
  },
  {
   "cell_type": "code",
   "execution_count": 28,
   "metadata": {
    "collapsed": false
   },
   "outputs": [
    {
     "data": {
      "text/plain": [
       "0.25    21.0\n",
       "0.50    35.0\n",
       "0.75    64.0\n",
       "Name: ibu, dtype: float64"
      ]
     },
     "execution_count": 28,
     "metadata": {},
     "output_type": "execute_result"
    }
   ],
   "source": [
    "quantile = beers[\"ibu\"].quantile([.25, .5, .75])\n",
    "quantile"
   ]
  },
  {
   "cell_type": "code",
   "execution_count": 33,
   "metadata": {
    "collapsed": false
   },
   "outputs": [
    {
     "data": {
      "image/png": "[encoded data removed]",
      "text/plain": [
       "<matplotlib.figure.Figure at 0xaa09b34c>"
      ]
     },
     "metadata": {},
     "output_type": "display_data"
    }
   ],
   "source": [
    "import seaborn as sns\n",
    "import matplotlib.pyplot as plt\n",
    "sns.set(color_codes=True)\n",
    "sns.set_palette(sns.color_palette(\"muted\"))\n",
    "\n",
    "sns.distplot(beers[\"ibu\"].dropna());\n",
    "plt.show()"
   ]
  },
  {
   "cell_type": "code",
   "execution_count": 34,
   "metadata": {
    "collapsed": false
   },
   "outputs": [
    {
     "data": {
      "text/html": [
       "<div>\n",
       "<table border=\"1\" class=\"dataframe\">\n",
       "  <thead>\n",
       "    <tr style=\"text-align: right;\">\n",
       "      <th></th>\n",
       "      <th>abv</th>\n",
       "      <th>ibu</th>\n",
       "      <th>ounces</th>\n",
       "    </tr>\n",
       "  </thead>\n",
       "  <tbody>\n",
       "    <tr>\n",
       "      <th>abv</th>\n",
       "      <td>1.000000</td>\n",
       "      <td>0.670621</td>\n",
       "      <td>0.172529</td>\n",
       "    </tr>\n",
       "    <tr>\n",
       "      <th>ibu</th>\n",
       "      <td>0.670621</td>\n",
       "      <td>1.000000</td>\n",
       "      <td>0.054691</td>\n",
       "    </tr>\n",
       "    <tr>\n",
       "      <th>ounces</th>\n",
       "      <td>0.172529</td>\n",
       "      <td>0.054691</td>\n",
       "      <td>1.000000</td>\n",
       "    </tr>\n",
       "  </tbody>\n",
       "</table>\n",
       "</div>"
      ],
      "text/plain": [
       "             abv       ibu    ounces\n",
       "abv     1.000000  0.670621  0.172529\n",
       "ibu     0.670621  1.000000  0.054691\n",
       "ounces  0.172529  0.054691  1.000000"
      ]
     },
     "execution_count": 34,
     "metadata": {},
     "output_type": "execute_result"
    }
   ],
   "source": [
    "# Correlations\n",
    "beers[[\"abv\", \"ibu\", \"ounces\"]].corr()"
   ]
  },
  {
   "cell_type": "code",
   "execution_count": 35,
   "metadata": {
    "collapsed": false
   },
   "outputs": [
    {
     "data": {
      "text/html": [
       "<div>\n",
       "<table border=\"1\" class=\"dataframe\">\n",
       "  <thead>\n",
       "    <tr style=\"text-align: right;\">\n",
       "      <th></th>\n",
       "      <th>name</th>\n",
       "      <th>style</th>\n",
       "    </tr>\n",
       "  </thead>\n",
       "  <tbody>\n",
       "    <tr>\n",
       "      <th>count</th>\n",
       "      <td>2410</td>\n",
       "      <td>2405</td>\n",
       "    </tr>\n",
       "    <tr>\n",
       "      <th>unique</th>\n",
       "      <td>2305</td>\n",
       "      <td>99</td>\n",
       "    </tr>\n",
       "    <tr>\n",
       "      <th>top</th>\n",
       "      <td>Nonstop Hef Hop</td>\n",
       "      <td>American IPA</td>\n",
       "    </tr>\n",
       "    <tr>\n",
       "      <th>freq</th>\n",
       "      <td>12</td>\n",
       "      <td>424</td>\n",
       "    </tr>\n",
       "  </tbody>\n",
       "</table>\n",
       "</div>"
      ],
      "text/plain": [
       "                   name         style\n",
       "count              2410          2405\n",
       "unique             2305            99\n",
       "top     Nonstop Hef Hop  American IPA\n",
       "freq                 12           424"
      ]
     },
     "execution_count": 35,
     "metadata": {},
     "output_type": "execute_result"
    }
   ],
   "source": [
    "beers[[\"name\", \"style\"]].describe()"
   ]
  },
  {
   "cell_type": "code",
   "execution_count": 36,
   "metadata": {
    "collapsed": false
   },
   "outputs": [
    {
     "ename": "ImportError",
     "evalue": "No module named pandas_profiling",
     "output_type": "error",
     "traceback": [
      "\u001b[0;31m---------------------------------------------------------------------------\u001b[0m",
      "\u001b[0;31mImportError\u001b[0m                               Traceback (most recent call last)",
      "\u001b[0;32m<ipython-input-36-bd8c6d4dbdce>\u001b[0m in \u001b[0;36m<module>\u001b[0;34m()\u001b[0m\n\u001b[0;32m----> 1\u001b[0;31m \u001b[0;32mimport\u001b[0m \u001b[0mpandas_profiling\u001b[0m\u001b[0;34m\u001b[0m\u001b[0m\n\u001b[0m\u001b[1;32m      2\u001b[0m \u001b[0;34m\u001b[0m\u001b[0m\n\u001b[1;32m      3\u001b[0m \u001b[0mpandas_profiling\u001b[0m\u001b[0;34m.\u001b[0m\u001b[0mProfileReport\u001b[0m\u001b[0;34m(\u001b[0m\u001b[0mbeers_and_breweries\u001b[0m\u001b[0;34m)\u001b[0m\u001b[0;34m\u001b[0m\u001b[0m\n",
      "\u001b[0;31mImportError\u001b[0m: No module named pandas_profiling"
     ]
    }
   ],
   "source": [
    "import pandas_profiling \n",
    "\n",
    "pandas_profiling.ProfileReport(beers_and_breweries)"
   ]
  },
  {
   "cell_type": "code",
   "execution_count": null,
   "metadata": {
    "collapsed": true
   },
   "outputs": [],
   "source": []
  }
 ],
 "metadata": {
  "kernelspec": {
   "display_name": "Python 2",
   "language": "python",
   "name": "python2"
  },
  "language_info": {
   "codemirror_mode": {
    "name": "ipython",
    "version": 2
   },
   "file_extension": ".py",
   "mimetype": "text/x-python",
   "name": "python",
   "nbconvert_exporter": "python",
   "pygments_lexer": "ipython2",
   "version": "2.7.13"
  }
 },
 "nbformat": 4,
 "nbformat_minor": 2
}
